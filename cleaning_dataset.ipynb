{
 "cells": [
  {
   "cell_type": "markdown",
   "metadata": {},
   "source": [
    "# Cleaning the dataset"
   ]
  },
  {
   "cell_type": "code",
   "execution_count": 14,
   "metadata": {},
   "outputs": [],
   "source": [
    "import pandas as pd\n",
    "\n",
    "df = pd.read_csv('final_dataset.csv')"
   ]
  },
  {
   "cell_type": "markdown",
   "metadata": {},
   "source": [
    "## Null values\n",
    "\n",
    "For columns Furnished, Garden, Fireplace, SwimmingPool and Terrace we can assume that no information means the property does not have them. (Same with ToiletCount, except this one refers to a toilet separate from the bathroom. ShowerCount can also be zero if the property only has a bathtub for example.)"
   ]
  },
  {
   "cell_type": "code",
   "execution_count": 15,
   "metadata": {},
   "outputs": [],
   "source": [
    "fill_with_zeros = ['Furnished','Garden','Fireplace','SwimmingPool','Terrace','ToiletCount','ShowerCount']\n",
    "for i in fill_with_zeros:\n",
    "    df[i] = df[i].fillna(0)"
   ]
  },
  {
   "cell_type": "markdown",
   "metadata": {},
   "source": [
    "## Iterative Imputer for LivingArea"
   ]
  },
  {
   "cell_type": "markdown",
   "metadata": {},
   "source": [
    "### Mapping\n",
    "\n",
    "We'll impute LivingArea based on BedroomCount, TypeOfProperty and SubtypeOfProperty (numerical version).\n",
    "But first, we need to associate categorical values to numeric ones. This will help us use corr() later to understand correlation with price."
   ]
  },
  {
   "cell_type": "code",
   "execution_count": 16,
   "metadata": {},
   "outputs": [],
   "source": [
    "subtype_mapping = {\n",
    "    'apartment': 1,\n",
    "    'house': 2,\n",
    "    'villa': 3,\n",
    "    'ground_floor': 4,\n",
    "    'duplex': 5,\n",
    "    'apartment_block': 6,\n",
    "    'flat_studio': 7,\n",
    "    'penthouse': 8,\n",
    "    'mixed_use_building': 9,\n",
    "    'service_flat': 10,\n",
    "    'kot': 11,\n",
    "    'mansion': 12,\n",
    "    'town_house': 13,\n",
    "    'bungalow': 14,\n",
    "    'loft': 15,\n",
    "    'exceptional_property': 16,\n",
    "    'country_cottage': 17,\n",
    "    'farmhouse': 18,\n",
    "    'triplex': 19,\n",
    "    'chalet': 20,\n",
    "    'other_property': 21,\n",
    "    'manor_house': 22,\n",
    "    'castle': 23,\n",
    "    'pavilion': 24,\n",
    "    'show_house': 25\n",
    "}\n",
    "\n",
    "df['SubtypeOfProperty_Numerical'] = df['SubtypeOfProperty'].map(subtype_mapping)\n",
    "\n",
    "living_area_df = df[['BedroomCount','TypeOfProperty','SubtypeOfProperty_Numerical','LivingArea']]"
   ]
  },
  {
   "cell_type": "markdown",
   "metadata": {},
   "source": [
    "### Iterative Imputing"
   ]
  },
  {
   "cell_type": "code",
   "execution_count": 17,
   "metadata": {},
   "outputs": [],
   "source": [
    "import numpy as np\n",
    "from sklearn.experimental import enable_iterative_imputer\n",
    "from sklearn.impute import IterativeImputer\n",
    "\n",
    "living_area_imputer = IterativeImputer(random_state=0)\n",
    "living_area_df_imputed = living_area_imputer.fit_transform(living_area_df)\n",
    "\n",
    "living_area_df_imputed = pd.DataFrame(living_area_df_imputed)\n",
    "df['LivingArea'] = living_area_df_imputed[3]\n",
    "\n",
    "#print(df[['BedroomCount','TypeOfProperty','SubtypeOfProperty_Numerical','LivingArea','Price']].head()) # Debug"
   ]
  },
  {
   "cell_type": "markdown",
   "metadata": {},
   "source": [
    "### Iterative Imputing for other data"
   ]
  },
  {
   "cell_type": "markdown",
   "metadata": {},
   "source": [
    "#### BathroomCount"
   ]
  },
  {
   "cell_type": "code",
   "execution_count": 18,
   "metadata": {},
   "outputs": [
    {
     "name": "stdout",
     "output_type": "stream",
     "text": [
      "   BedroomCount  BathroomCount  TypeOfProperty  SubtypeOfProperty_Numerical\n",
      "0           1.0            1.0               2                            7\n",
      "1          13.0            6.0               1                            6\n",
      "2           4.0            2.0               1                            2\n",
      "3           4.0            1.0               1                            2\n",
      "4           2.0            0.0               2                            1\n",
      "5           1.0            1.0               2                            1\n",
      "6           6.0            4.0               1                            3\n",
      "7           2.0            0.0               1                            2\n",
      "8           3.0            2.0               2                            1\n",
      "9           2.0            1.0               2                            1\n"
     ]
    }
   ],
   "source": [
    "bathroom_count_df = df[['BedroomCount','BathroomCount','TypeOfProperty','SubtypeOfProperty_Numerical']]\n",
    "\n",
    "bathroom_count_imputer = IterativeImputer(random_state=0)\n",
    "bathroom_count_df_imputed = bathroom_count_imputer.fit_transform(bathroom_count_df)\n",
    "bathroom_count_df_imputed = np.round(bathroom_count_df_imputed) # it's a count, we don't need decimals\n",
    "\n",
    "bathroom_count_df_imputed = pd.DataFrame(bathroom_count_df_imputed)\n",
    "df['BathroomCount'] = bathroom_count_df_imputed[1]\n",
    "\n",
    "print(df[['BedroomCount','BathroomCount','TypeOfProperty','SubtypeOfProperty_Numerical']].head(10)) # Debug"
   ]
  },
  {
   "cell_type": "markdown",
   "metadata": {},
   "source": [
    "#### RoomCount\n",
    "\n",
    "(I think we should drop it, not always coherent)"
   ]
  },
  {
   "cell_type": "code",
   "execution_count": 19,
   "metadata": {},
   "outputs": [
    {
     "name": "stdout",
     "output_type": "stream",
     "text": [
      "   BedroomCount  TypeOfProperty  SubtypeOfProperty_Numerical  RoomCount\n",
      "0           1.0               2                            7        1.0\n",
      "1          13.0               1                            6       31.0\n",
      "2           4.0               1                            2        9.0\n",
      "3           4.0               1                            2        9.0\n",
      "4           2.0               2                            1        1.0\n"
     ]
    }
   ],
   "source": [
    "room_count_df = df[['BedroomCount','TypeOfProperty','SubtypeOfProperty_Numerical','RoomCount']]\n",
    "\n",
    "room_count_imputer = IterativeImputer(random_state=0)\n",
    "room_count_df_imputed = room_count_imputer.fit_transform(room_count_df)\n",
    "room_count_df_imputed = np.round(room_count_df_imputed)\n",
    "\n",
    "room_count_df_imputed = pd.DataFrame(room_count_df_imputed)\n",
    "df['RoomCount'] = room_count_df_imputed[3]\n",
    "\n",
    "print(df[['BedroomCount','TypeOfProperty','SubtypeOfProperty_Numerical','RoomCount']].head()) # Debug"
   ]
  },
  {
   "cell_type": "markdown",
   "metadata": {},
   "source": [
    "#### GardenArea"
   ]
  },
  {
   "cell_type": "markdown",
   "metadata": {},
   "source": [
    "Properties without garden will have \"0\" as GardenArea. \n",
    "We could use IterativeImputer but all properties with garden have listed their areas so it's useless here."
   ]
  },
  {
   "cell_type": "code",
   "execution_count": 21,
   "metadata": {},
   "outputs": [],
   "source": [
    "GardenArea_df = df[['Garden','GardenArea','TypeOfProperty','SubtypeOfProperty_Numerical']]\n",
    "\n",
    "GardenArea_df.loc[GardenArea_df['Garden'] == 0, 'GardenArea'] = 0\n",
    "df['GardenArea'] = GardenArea_df['GardenArea']"
   ]
  },
  {
   "cell_type": "markdown",
   "metadata": {},
   "source": [
    "#### SurfaceOfPlot\n",
    "\n",
    "Issue here; probably need to remove outliers"
   ]
  },
  {
   "cell_type": "code",
   "execution_count": 23,
   "metadata": {},
   "outputs": [
    {
     "name": "stdout",
     "output_type": "stream",
     "text": [
      "    BedroomCount  Garden  GardenArea  TypeOfProperty  \\\n",
      "0            1.0     0.0         0.0               2   \n",
      "1           13.0     0.0         0.0               1   \n",
      "2            4.0     0.0         0.0               1   \n",
      "3            4.0     1.0         1.0               1   \n",
      "4            2.0     0.0         0.0               2   \n",
      "5            1.0     0.0         0.0               2   \n",
      "6            6.0     1.0      2519.0               1   \n",
      "7            2.0     0.0         0.0               1   \n",
      "8            3.0     0.0         0.0               2   \n",
      "9            2.0     0.0         0.0               2   \n",
      "10           2.0     0.0         0.0               2   \n",
      "11           3.0     0.0         0.0               2   \n",
      "12           5.0     0.0         0.0               1   \n",
      "13           1.0     0.0         0.0               2   \n",
      "14           2.0     0.0         0.0               2   \n",
      "\n",
      "    SubtypeOfProperty_Numerical  SurfaceOfPlot  \n",
      "0                             7         3118.0  \n",
      "1                             6          130.0  \n",
      "2                             2            0.0  \n",
      "3                             2          170.0  \n",
      "4                             1         3118.0  \n",
      "5                             1         3118.0  \n",
      "6                             3         2519.0  \n",
      "7                             2          423.0  \n",
      "8                             1         3118.0  \n",
      "9                             1         3118.0  \n",
      "10                            1         3118.0  \n",
      "11                            1         3118.0  \n",
      "12                            2         5185.0  \n",
      "13                            1         3118.0  \n",
      "14                            1         3118.0  \n"
     ]
    }
   ],
   "source": [
    "SurfaceOfPlot_df = df[['BedroomCount','Garden','GardenArea','TypeOfProperty','SubtypeOfProperty_Numerical','SurfaceOfPlot']]\n",
    "\n",
    "SurfaceOfPlot_imputer = IterativeImputer(random_state=0)\n",
    "SurfaceOfPlot_df_imputed = SurfaceOfPlot_imputer.fit_transform(SurfaceOfPlot_df)\n",
    "SurfaceOfPlot_df_imputed = np.round(SurfaceOfPlot_df_imputed)\n",
    "\n",
    "SurfaceOfPlot_df_imputed = pd.DataFrame(SurfaceOfPlot_df_imputed)\n",
    "#df['SurfaceOfPlot'] = SurfaceOfPlot_df_imputed[5]\n",
    "print(df[['BedroomCount','Garden','GardenArea','TypeOfProperty','SubtypeOfProperty_Numerical','SurfaceOfPlot']].head(15))"
   ]
  },
  {
   "cell_type": "markdown",
   "metadata": {},
   "source": [
    "## Numerical values for other categorical values"
   ]
  },
  {
   "cell_type": "markdown",
   "metadata": {},
   "source": [
    "#### Numerical values for kitchen"
   ]
  },
  {
   "cell_type": "code",
   "execution_count": 24,
   "metadata": {},
   "outputs": [],
   "source": [
    "kitchen_mapping = {\n",
    "    'NO_DATA' : 0,\n",
    "    'NOT_INSTALLED': 1,\n",
    "    'USA_UNINSTALLED': 2,\n",
    "    'SEMI_EQUIPPED': 3,\n",
    "    'USA_SEMI_EQUIPPED': 4,\n",
    "    'INSTALLED': 5,\n",
    "    'USA_INSTALLED': 6,\n",
    "    'HYPER_EQUIPPED': 7,\n",
    "    'USA_HYPER_EQUIPPED': 8\n",
    "}\n",
    "\n",
    "df['Kitchen'] = df['Kitchen'].fillna('NO_DATA')\n",
    "df['Kitchen_Numerical'] = df['Kitchen'].map(kitchen_mapping)\n",
    "\n",
    "#print(df[['BedroomCount','LivingArea','Price','Kitchen','Kitchen_Numerical']].head()) # Debug\n"
   ]
  },
  {
   "cell_type": "markdown",
   "metadata": {},
   "source": [
    "#### Numerical values for state of building"
   ]
  },
  {
   "cell_type": "code",
   "execution_count": 25,
   "metadata": {},
   "outputs": [],
   "source": [
    "stateOfBuilding_mapping = {\n",
    "    'NO_DATA' : 0,\n",
    "    'TO_RESTORE' : 1,\n",
    "    'TO_RENOVATE' : 2,\n",
    "    'TO_BE_DONE_UP' : 3,\n",
    "    'GOOD' : 4,\n",
    "    'AS_NEW' : 5,\n",
    "    'JUST_RENOVATED' : 6\n",
    "}\n",
    "              \n",
    "df['StateOfBuilding'] = df['StateOfBuilding'].fillna('NO_DATA')     \n",
    "df['StateOfBuilding_Numerical'] = df['StateOfBuilding'].map(stateOfBuilding_mapping)       \n",
    "        \n",
    "#print(df[['BedroomCount','LivingArea','Price','StateOfBuilding','StateOfBuilding_Numerical']])    # Debug "
   ]
  }
 ],
 "metadata": {
  "kernelspec": {
   "display_name": "Python 3",
   "language": "python",
   "name": "python3"
  },
  "language_info": {
   "codemirror_mode": {
    "name": "ipython",
    "version": 3
   },
   "file_extension": ".py",
   "mimetype": "text/x-python",
   "name": "python",
   "nbconvert_exporter": "python",
   "pygments_lexer": "ipython3",
   "version": "3.12.3"
  }
 },
 "nbformat": 4,
 "nbformat_minor": 2
}
