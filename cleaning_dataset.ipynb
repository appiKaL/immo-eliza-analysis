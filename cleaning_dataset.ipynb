{
 "cells": [
  {
   "cell_type": "markdown",
   "metadata": {},
   "source": [
    "# Cleaning the dataset"
   ]
  },
  {
   "cell_type": "code",
   "execution_count": 82,
   "metadata": {},
   "outputs": [],
   "source": [
    "import pandas as pd\n",
    "import re\n",
    "\n",
    "df = pd.read_csv('final_dataset.csv')"
   ]
  },
  {
   "cell_type": "markdown",
   "metadata": {},
   "source": [
    "## Null values\n",
    "\n",
    "For columns Furnished, Garden, Fireplace, SwimmingPool and Terrace we can assume that no information means the property does not have them.\n",
    "\n",
    "Same with ToiletCount, except this one refers to a toilet separate from the bathroom. ShowerCount can also be zero if the property only has a bathtub for example.\n",
    "\n",
    "SurfaceOfPlot is missing data for properties that are not houses (apartments, studio), so we can also fill it with zeros."
   ]
  },
  {
   "cell_type": "code",
   "execution_count": 83,
   "metadata": {},
   "outputs": [],
   "source": [
    "fill_with_zeros = ['Furnished','Garden','Fireplace','SwimmingPool','Terrace','ToiletCount','ShowerCount','SurfaceOfPlot']\n",
    "for i in fill_with_zeros:\n",
    "    df[i] = df[i].fillna(0)"
   ]
  },
  {
   "cell_type": "markdown",
   "metadata": {},
   "source": [
    "## Iterative Imputer for LivingArea"
   ]
  },
  {
   "cell_type": "markdown",
   "metadata": {},
   "source": [
    "### Mapping\n",
    "\n",
    "We'll impute LivingArea based on BedroomCount, TypeOfProperty and SubtypeOfProperty (numerical version).\n",
    "But first, we need to associate categorical values to numeric ones. This will help us use corr() later to understand correlation with price."
   ]
  },
  {
   "cell_type": "code",
   "execution_count": 84,
   "metadata": {},
   "outputs": [],
   "source": [
    "subtype_mapping = {\n",
    "    'apartment': 1,\n",
    "    'house': 2,\n",
    "    'villa': 3,\n",
    "    'ground_floor': 4,\n",
    "    'duplex': 5,\n",
    "    'apartment_block': 6,\n",
    "    'flat_studio': 7,\n",
    "    'penthouse': 8,\n",
    "    'mixed_use_building': 9,\n",
    "    'service_flat': 10,\n",
    "    'kot': 11,\n",
    "    'mansion': 12,\n",
    "    'town_house': 13,\n",
    "    'bungalow': 14,\n",
    "    'loft': 15,\n",
    "    'exceptional_property': 16,\n",
    "    'country_cottage': 17,\n",
    "    'farmhouse': 18,\n",
    "    'triplex': 19,\n",
    "    'chalet': 20,\n",
    "    'other_property': 21,\n",
    "    'manor_house': 22,\n",
    "    'castle': 23,\n",
    "    'pavilion': 24,\n",
    "    'show_house': 25\n",
    "}\n",
    "\n",
    "df['SubtypeOfProperty_Numerical'] = df['SubtypeOfProperty'].map(subtype_mapping)\n",
    "\n",
    "living_area_df = df[['BedroomCount','TypeOfProperty','SubtypeOfProperty_Numerical','LivingArea']]"
   ]
  },
  {
   "cell_type": "markdown",
   "metadata": {},
   "source": [
    "### Iterative Imputing"
   ]
  },
  {
   "cell_type": "code",
   "execution_count": 85,
   "metadata": {},
   "outputs": [],
   "source": [
    "import numpy as np\n",
    "from sklearn.experimental import enable_iterative_imputer\n",
    "from sklearn.impute import IterativeImputer\n",
    "\n",
    "living_area_imputer = IterativeImputer(random_state=0)\n",
    "living_area_df_imputed = living_area_imputer.fit_transform(living_area_df)\n",
    "\n",
    "living_area_df_imputed = pd.DataFrame(living_area_df_imputed)\n",
    "df['LivingArea'] = living_area_df_imputed[3]\n",
    "\n",
    "#print(df[['BedroomCount','TypeOfProperty','SubtypeOfProperty_Numerical','LivingArea','Price']].head()) # Debug"
   ]
  },
  {
   "cell_type": "markdown",
   "metadata": {},
   "source": [
    "### Iterative Imputing for other data"
   ]
  },
  {
   "cell_type": "markdown",
   "metadata": {},
   "source": [
    "#### BathroomCount"
   ]
  },
  {
   "cell_type": "code",
   "execution_count": 86,
   "metadata": {},
   "outputs": [
    {
     "name": "stdout",
     "output_type": "stream",
     "text": [
      "   BedroomCount  BathroomCount  TypeOfProperty  SubtypeOfProperty_Numerical\n",
      "0           1.0            1.0               2                            7\n",
      "1          13.0            6.0               1                            6\n",
      "2           4.0            2.0               1                            2\n",
      "3           4.0            1.0               1                            2\n",
      "4           2.0            0.0               2                            1\n",
      "5           1.0            1.0               2                            1\n",
      "6           6.0            4.0               1                            3\n",
      "7           2.0            0.0               1                            2\n",
      "8           3.0            2.0               2                            1\n",
      "9           2.0            1.0               2                            1\n"
     ]
    }
   ],
   "source": [
    "bathroom_count_df = df[['BedroomCount','BathroomCount','TypeOfProperty','SubtypeOfProperty_Numerical']]\n",
    "\n",
    "bathroom_count_imputer = IterativeImputer(random_state=0)\n",
    "bathroom_count_df_imputed = bathroom_count_imputer.fit_transform(bathroom_count_df)\n",
    "bathroom_count_df_imputed = np.round(bathroom_count_df_imputed) # it's a count, we don't need decimals\n",
    "\n",
    "bathroom_count_df_imputed = pd.DataFrame(bathroom_count_df_imputed)\n",
    "df['BathroomCount'] = bathroom_count_df_imputed[1]\n",
    "\n",
    "print(df[['BedroomCount','BathroomCount','TypeOfProperty','SubtypeOfProperty_Numerical']].head(10)) # Debug"
   ]
  },
  {
   "cell_type": "markdown",
   "metadata": {},
   "source": [
    "#### RoomCount\n",
    "\n",
    "(I think we should drop it, not always coherent)"
   ]
  },
  {
   "cell_type": "code",
   "execution_count": 87,
   "metadata": {},
   "outputs": [
    {
     "name": "stdout",
     "output_type": "stream",
     "text": [
      "   BedroomCount  TypeOfProperty  SubtypeOfProperty_Numerical  RoomCount\n",
      "0           1.0               2                            7        1.0\n",
      "1          13.0               1                            6       31.0\n",
      "2           4.0               1                            2        9.0\n",
      "3           4.0               1                            2        9.0\n",
      "4           2.0               2                            1        1.0\n"
     ]
    }
   ],
   "source": [
    "room_count_df = df[['BedroomCount','TypeOfProperty','SubtypeOfProperty_Numerical','RoomCount']]\n",
    "\n",
    "room_count_imputer = IterativeImputer(random_state=0)\n",
    "room_count_df_imputed = room_count_imputer.fit_transform(room_count_df)\n",
    "room_count_df_imputed = np.round(room_count_df_imputed)\n",
    "\n",
    "room_count_df_imputed = pd.DataFrame(room_count_df_imputed)\n",
    "df['RoomCount'] = room_count_df_imputed[3]\n",
    "\n",
    "print(df[['BedroomCount','TypeOfProperty','SubtypeOfProperty_Numerical','RoomCount']].head()) # Debug"
   ]
  },
  {
   "cell_type": "markdown",
   "metadata": {},
   "source": [
    "#### GardenArea"
   ]
  },
  {
   "cell_type": "markdown",
   "metadata": {},
   "source": [
    "Properties without garden will have \"0\" as GardenArea. \n",
    "We could use IterativeImputer but all properties with garden have listed their areas so it's useless here."
   ]
  },
  {
   "cell_type": "code",
   "execution_count": 88,
   "metadata": {},
   "outputs": [],
   "source": [
    "GardenArea_df = df[['Garden','GardenArea','TypeOfProperty','SubtypeOfProperty_Numerical']]\n",
    "\n",
    "GardenArea_df.loc[GardenArea_df['Garden'] == 0, 'GardenArea'] = 0\n",
    "df['GardenArea'] = GardenArea_df['GardenArea']"
   ]
  },
  {
   "cell_type": "markdown",
   "metadata": {},
   "source": [
    "### Montlhy Charges\n",
    "\n",
    "Only two types of sale have monthly charges : residential_monthly_rent and annuity_monthly_amount. The missing data in those categories will be predicted with Iterative Imputer after everything else is filled with zeroes."
   ]
  },
  {
   "cell_type": "code",
   "execution_count": 89,
   "metadata": {},
   "outputs": [],
   "source": [
    "df.loc[df['TypeOfSale'] == 'residential_sale', 'MonthlyCharges'] = 0\n",
    "df.loc[df['TypeOfSale'] == 'annuity_without_lump_sum', 'MonthlyCharges'] = 0\n",
    "df.loc[df['TypeOfSale'] == 'annuity_lump_sum', 'MonthlyCharges'] = 0\n",
    "df.loc[df['TypeOfSale'] == 'homes_to_build', 'MonthlyCharges'] = 0\n",
    "\n",
    "TypeOfSale_mapping = {\n",
    "    'residential_sale' : 0,   \n",
    "    'annuity_without_lump_sum' : 0,       \n",
    "    'annuity_lump_sum' : 0,                 \n",
    "    'homes_to_build' : 0,   \n",
    "    'residential_monthly_rent' : 1, \n",
    "    'annuity_monthly_amount' : 2       \n",
    "}\n",
    "\n",
    "df['TypeOfSale_Numerical'] = df['TypeOfSale'].map(TypeOfSale_mapping)\n",
    "#print(df[['TypeOfSale','MonthlyCharges','TypeOfSale_Numerical']].head(20))\n",
    "monthly_charges_df = df[['BedroomCount','TypeOfProperty','SubtypeOfProperty_Numerical','TypeOfSale_Numerical','MonthlyCharges']]\n",
    "\n",
    "monthly_charges_imputer = IterativeImputer(random_state=0)\n",
    "monthly_charges_df_imputed = monthly_charges_imputer.fit_transform(monthly_charges_df)\n",
    "\n",
    "monthly_charges_df_imputed = pd.DataFrame(monthly_charges_df_imputed)\n",
    "df['MonthlyCharges'] = monthly_charges_df_imputed[4]\n",
    "\n",
    "#print(df[df['MonthlyCharges'] >= 0])"
   ]
  },
  {
   "cell_type": "markdown",
   "metadata": {},
   "source": [
    "### Number of facades (mean)"
   ]
  },
  {
   "cell_type": "code",
   "execution_count": 90,
   "metadata": {},
   "outputs": [
    {
     "name": "stderr",
     "output_type": "stream",
     "text": [
      "C:\\Users\\NGIRA\\AppData\\Local\\Temp\\ipykernel_17560\\3860758433.py:3: FutureWarning: A value is trying to be set on a copy of a DataFrame or Series through chained assignment using an inplace method.\n",
      "The behavior will change in pandas 3.0. This inplace method will never work because the intermediate object on which we are setting values always behaves as a copy.\n",
      "\n",
      "For example, when doing 'df[col].method(value, inplace=True)', try using 'df.method({col: value}, inplace=True)' or df[col] = df[col].method(value) instead, to perform the operation inplace on the original object.\n",
      "\n",
      "\n",
      "  df['NumberOfFacades'].fillna(new_value , inplace = True)\n"
     ]
    }
   ],
   "source": [
    "new_value = int(df['NumberOfFacades'].mean())\n",
    "\n",
    "df['NumberOfFacades'].fillna(new_value , inplace = True)\n",
    "\n",
    "#df['NumberOfFacades'].head()"
   ]
  },
  {
   "cell_type": "markdown",
   "metadata": {},
   "source": [
    "### PEB (before and after 1945)"
   ]
  },
  {
   "cell_type": "code",
   "execution_count": 91,
   "metadata": {},
   "outputs": [
    {
     "name": "stdout",
     "output_type": "stream",
     "text": [
      "F\n",
      "B\n"
     ]
    }
   ],
   "source": [
    "under_1945_peb = df[df['ConstructionYear'] < 1945]\n",
    "most_common_peb_class = under_1945_peb['PEB'].mode()[0] \n",
    "print(most_common_peb_class)\n",
    "\n",
    "bellow_1945_peb = df[df['ConstructionYear'] > 1945]\n",
    "most_common_peb_class_bellow = bellow_1945_peb['PEB'].mode()[0]\n",
    "print(most_common_peb_class_bellow)"
   ]
  },
  {
   "cell_type": "code",
   "execution_count": 92,
   "metadata": {},
   "outputs": [],
   "source": [
    "df['PEB'] = np.where(\n",
    "    pd.isna(df['PEB']) & (df['ConstructionYear'] < 1945), most_common_peb_class,\n",
    "    np.where(\n",
    "        pd.isna(df['PEB']) & (df['ConstructionYear'] > 1945), most_common_peb_class_bellow,\n",
    "        df['PEB']\n",
    "    )\n",
    ")\n",
    "\n",
    "df['PEB'] = df['PEB'].fillna('F', axis=None)"
   ]
  },
  {
   "cell_type": "code",
   "execution_count": 93,
   "metadata": {},
   "outputs": [
    {
     "data": {
      "text/plain": [
       "0    B\n",
       "1    D\n",
       "2    B\n",
       "3    F\n",
       "4    B\n",
       "Name: PEB, dtype: object"
      ]
     },
     "execution_count": 93,
     "metadata": {},
     "output_type": "execute_result"
    }
   ],
   "source": [
    "df['PEB'].head()"
   ]
  },
  {
   "cell_type": "markdown",
   "metadata": {},
   "source": [
    "## Numerical values for other categorical values"
   ]
  },
  {
   "cell_type": "markdown",
   "metadata": {},
   "source": [
    "#### Numerical values for kitchen"
   ]
  },
  {
   "cell_type": "code",
   "execution_count": 94,
   "metadata": {},
   "outputs": [],
   "source": [
    "kitchen_mapping = {\n",
    "    'NO_DATA' : 0,\n",
    "    'NOT_INSTALLED': 1,\n",
    "    'USA_UNINSTALLED': 2,\n",
    "    'SEMI_EQUIPPED': 3,\n",
    "    'USA_SEMI_EQUIPPED': 4,\n",
    "    'INSTALLED': 5,\n",
    "    'USA_INSTALLED': 6,\n",
    "    'HYPER_EQUIPPED': 7,\n",
    "    'USA_HYPER_EQUIPPED': 8\n",
    "}\n",
    "\n",
    "df['Kitchen'] = df['Kitchen'].fillna('NO_DATA')\n",
    "df['Kitchen_Numerical'] = df['Kitchen'].map(kitchen_mapping)\n",
    "\n",
    "#print(df[['BedroomCount','LivingArea','Price','Kitchen','Kitchen_Numerical']].head()) # Debug\n"
   ]
  },
  {
   "cell_type": "markdown",
   "metadata": {},
   "source": [
    "#### Numerical values for state of building"
   ]
  },
  {
   "cell_type": "code",
   "execution_count": 95,
   "metadata": {},
   "outputs": [],
   "source": [
    "stateOfBuilding_mapping = {\n",
    "    'NO_DATA' : 0,\n",
    "    'TO_RESTORE' : 1,\n",
    "    'TO_RENOVATE' : 2,\n",
    "    'TO_BE_DONE_UP' : 3,\n",
    "    'GOOD' : 4,\n",
    "    'AS_NEW' : 5,\n",
    "    'JUST_RENOVATED' : 6\n",
    "}\n",
    "              \n",
    "df['StateOfBuilding'] = df['StateOfBuilding'].fillna('NO_DATA')     \n",
    "df['StateOfBuilding_Numerical'] = df['StateOfBuilding'].map(stateOfBuilding_mapping)       \n",
    "        \n",
    "#print(df[['BedroomCount','LivingArea','Price','StateOfBuilding','StateOfBuilding_Numerical']])    # Debug "
   ]
  },
  {
   "cell_type": "markdown",
   "metadata": {},
   "source": [
    "#### Numerical values for flooding zones"
   ]
  },
  {
   "cell_type": "code",
   "execution_count": 96,
   "metadata": {},
   "outputs": [],
   "source": [
    "FloodingZone_mapping = {\n",
    "    'NO_DATA' : 0,\n",
    "    'NON_FLOOD_ZONE' : 1,\n",
    "    'POSSIBLE_FLOOD_ZONE' : 2,\n",
    "    'POSSIBLE_N_CIRCUMSCRIBED_FLOOD_ZONE' : 3,\n",
    "    'POSSIBLE_N_CIRCUMSCRIBED_WATERSIDE_ZONE' : 4,\n",
    "    'CIRCUMSCRIBED_WATERSIDE_ZONE' : 5,\n",
    "    'RECOGNIZED_FLOOD_ZONE' : 6,\n",
    "    'RECOGNIZED_N_CIRCUMSCRIBED_FLOOD_ZONE'  : 7,\n",
    "    'CIRCUMSCRIBED_FLOOD_ZONE' : 8,\n",
    "    'RECOGNIZED_N_CIRCUMSCRIBED_WATERSIDE_FLOOD_ZONE' : 9\n",
    "}\n",
    "\n",
    "df['FloodingZone'] = df['FloodingZone'].fillna('NO_DATA')\n",
    "df['FloodingZone_Numerical'] = df['FloodingZone'].map(FloodingZone_mapping)                                     \n",
    "       \n",
    "#print(df[['FloodingZone','FloodingZone_Numerical']])      # Debug "
   ]
  },
  {
   "cell_type": "markdown",
   "metadata": {},
   "source": [
    "### Construction date\n",
    "\n",
    "RUN AFTER RIDVAN'CODE !!!!!!!"
   ]
  },
  {
   "cell_type": "code",
   "execution_count": 97,
   "metadata": {},
   "outputs": [
    {
     "name": "stdout",
     "output_type": "stream",
     "text": [
      "0      1969.0\n",
      "1      1920.0\n",
      "2      2008.0\n",
      "3     NO_DATA\n",
      "4      1972.0\n",
      "5      1994.0\n",
      "6      1970.0\n",
      "7     NO_DATA\n",
      "8      2023.0\n",
      "9     NO_DATA\n",
      "10     1961.0\n",
      "11    NO_DATA\n",
      "12     1987.0\n",
      "13    NO_DATA\n",
      "14     1966.0\n",
      "15     1923.0\n",
      "16    NO_DATA\n",
      "17     1974.0\n",
      "18     1974.0\n",
      "19     1860.0\n",
      "Name: ConstructionYear, dtype: object\n"
     ]
    }
   ],
   "source": [
    "df['ConstructionYear'] = df['ConstructionYear'].astype(str)\n",
    "df['ConstructionYear'] = df['ConstructionYear'].replace('nan','NO_DATA')\n",
    "print(df['ConstructionYear'] .head(20))"
   ]
  },
  {
   "cell_type": "code",
   "execution_count": 98,
   "metadata": {},
   "outputs": [],
   "source": [
    "df = df.dropna(subset=['District'])\n",
    "df = df.dropna(subset=['Locality'])\n",
    "df = df.dropna(subset=['Province'])\n",
    "df = df.dropna(subset=['Region'])"
   ]
  },
  {
   "cell_type": "code",
   "execution_count": 99,
   "metadata": {},
   "outputs": [],
   "source": [
    "df.to_csv('clean_dataset.csv', index=False)"
   ]
  }
 ],
 "metadata": {
  "kernelspec": {
   "display_name": "Python 3",
   "language": "python",
   "name": "python3"
  },
  "language_info": {
   "codemirror_mode": {
    "name": "ipython",
    "version": 3
   },
   "file_extension": ".py",
   "mimetype": "text/x-python",
   "name": "python",
   "nbconvert_exporter": "python",
   "pygments_lexer": "ipython3",
   "version": "3.12.3"
  }
 },
 "nbformat": 4,
 "nbformat_minor": 2
}
