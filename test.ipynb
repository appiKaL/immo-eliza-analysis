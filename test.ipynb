{
 "cells": [
  {
   "cell_type": "code",
   "execution_count": 2,
   "metadata": {},
   "outputs": [],
   "source": [
    "import pandas as pd"
   ]
  },
  {
   "cell_type": "code",
   "execution_count": 46,
   "metadata": {},
   "outputs": [
    {
     "data": {
      "text/plain": [
       "Url                   object\n",
       "BathroomCount        float64\n",
       "BedroomCount         float64\n",
       "ConstructionYear     float64\n",
       "Country               object\n",
       "District              object\n",
       "Fireplace            float64\n",
       "FloodingZone          object\n",
       "Furnished            float64\n",
       "Garden               float64\n",
       "GardenArea           float64\n",
       "Kitchen               object\n",
       "LivingArea           float64\n",
       "Locality              object\n",
       "MonthlyCharges       float64\n",
       "NumberOfFacades      float64\n",
       "PEB                   object\n",
       "PostalCode           float64\n",
       "Price                float64\n",
       "PropertyId             int64\n",
       "Province              object\n",
       "Region                object\n",
       "RoomCount            float64\n",
       "ShowerCount          float64\n",
       "StateOfBuilding       object\n",
       "SubtypeOfProperty     object\n",
       "SurfaceOfPlot        float64\n",
       "SwimmingPool         float64\n",
       "Terrace              float64\n",
       "ToiletCount          float64\n",
       "TypeOfProperty         int64\n",
       "TypeOfSale            object\n",
       "dtype: object"
      ]
     },
     "execution_count": 46,
     "metadata": {},
     "output_type": "execute_result"
    }
   ],
   "source": [
    "df = pd.read_csv('final_dataset.csv')\n",
    "df.dtypes"
   ]
  },
  {
   "cell_type": "code",
   "execution_count": 4,
   "metadata": {},
   "outputs": [],
   "source": [
    "numerical_dataset = df.drop(columns=['Url','Country','District','Fireplace','FloodingZone','Furnished','Garden','Kitchen','Locality','PEB','PostalCode','PropertyId','Province','Region','StateOfBuilding','SubtypeOfProperty','Terrace','TypeOfProperty','TypeOfSale'])\n",
    "#print(numerical_dataset.head()) # Debugging\n",
    "numerical_dataset.corr()"
   ]
  },
  {
   "cell_type": "code",
   "execution_count": 18,
   "metadata": {},
   "outputs": [],
   "source": [
    "import numpy as np\n",
    "from sklearn.experimental import enable_iterative_imputer\n",
    "from sklearn.impute import IterativeImputer\n",
    "\n",
    "imp_mean = IterativeImputer(random_state=0) \n",
    "# random_state=0 so the seed of the pseudo random number generator is controlled -> results will be reproductible\n",
    "\n",
    "imp_mean.fit([[7, 2, 3], [4, np.nan, 6], [10, 5, 9]])\n",
    "\n",
    "X = [[np.nan, 2, 3], [4, np.nan, 6], [10, np.nan, 9]]\n",
    "\n",
    "imp_mean.transform(X)"
   ]
  },
  {
   "cell_type": "code",
   "execution_count": null,
   "metadata": {},
   "outputs": [],
   "source": [
    "data = {\n",
    "    'A': [1, 3, np.nan, 5, 5],\n",
    "    'B': [6, np.nan, 8, 9, 11],\n",
    "    'C': [11, 10, 13, np.nan, 16]\n",
    "}\n",
    "df2 = pd.DataFrame(data)\n",
    "\n",
    "# Create an IterativeImputer instance\n",
    "imputer = IterativeImputer()\n",
    "\n",
    "# Fit and transform the DataFrame\n",
    "df_imputed = imputer.fit_transform(df2) # fit_transform is more appropriate than fit() and transform() on a single dataset\n",
    "\n",
    "# Convert the result back to a DataFrame\n",
    "df_imputed = pd.DataFrame(df_imputed, columns=df.columns)\n",
    "\n",
    "print(df_imputed)"
   ]
  },
  {
   "cell_type": "markdown",
   "metadata": {},
   "source": [
    "# Iterative Imputer for LivingArea"
   ]
  },
  {
   "cell_type": "code",
   "execution_count": 25,
   "metadata": {},
   "outputs": [],
   "source": [
    "df = pd.read_csv('final_dataset.csv')"
   ]
  },
  {
   "cell_type": "code",
   "execution_count": null,
   "metadata": {},
   "outputs": [],
   "source": [
    "#df[\"SubtypeOfProperty\"].value_counts()\n",
    "#print(unique_subtype[['TypeOfProperty','SubtypeOfProperty']])"
   ]
  },
  {
   "cell_type": "markdown",
   "metadata": {},
   "source": [
    "## Mapping\n",
    "\n",
    "To change categorical values into numeric ones. (so we can use corr())"
   ]
  },
  {
   "cell_type": "code",
   "execution_count": 27,
   "metadata": {},
   "outputs": [],
   "source": [
    "subtype_mapping = {\n",
    "    'apartment': 1,\n",
    "    'house': 2,\n",
    "    'villa': 3,\n",
    "    'ground_floor': 4,\n",
    "    'duplex': 5,\n",
    "    'apartment_block': 6,\n",
    "    'flat_studio': 7,\n",
    "    'penthouse': 8,\n",
    "    'mixed_use_building': 9,\n",
    "    'service_flat': 10,\n",
    "    'kot': 11,\n",
    "    'mansion': 12,\n",
    "    'town_house': 13,\n",
    "    'bungalow': 14,\n",
    "    'loft': 15,\n",
    "    'exceptional_property': 16,\n",
    "    'country_cottage': 17,\n",
    "    'farmhouse': 18,\n",
    "    'triplex': 19,\n",
    "    'chalet': 20,\n",
    "    'other_property': 21,\n",
    "    'manor_house': 22,\n",
    "    'castle': 23,\n",
    "    'pavilion': 24,\n",
    "    'show_house': 25\n",
    "}\n",
    "\n",
    "df['SubtypeOfProperty_Numerical'] = df['SubtypeOfProperty'].map(subtype_mapping)\n",
    "\n",
    "#unique_subtype = df.drop_duplicates(subset=\"SubtypeOfProperty\")\n",
    "#print(unique_subtype[['SubtypeOfProperty','SubtypeOfProperty_Numerical']])"
   ]
  },
  {
   "cell_type": "code",
   "execution_count": 31,
   "metadata": {},
   "outputs": [
    {
     "name": "stdout",
     "output_type": "stream",
     "text": [
      "<class 'pandas.core.frame.DataFrame'>\n",
      "RangeIndex: 118714 entries, 0 to 118713\n",
      "Data columns (total 4 columns):\n",
      " #   Column                       Non-Null Count   Dtype  \n",
      "---  ------                       --------------   -----  \n",
      " 0   BedroomCount                 118714 non-null  float64\n",
      " 1   TypeOfProperty               118714 non-null  int64  \n",
      " 2   SubtypeOfProperty_Numerical  118714 non-null  int64  \n",
      " 3   LivingArea                   104539 non-null  float64\n",
      "dtypes: float64(2), int64(2)\n",
      "memory usage: 3.6 MB\n",
      "<class 'pandas.core.frame.DataFrame'>\n"
     ]
    },
    {
     "data": {
      "text/plain": [
       "Index(['BedroomCount', 'TypeOfProperty', 'SubtypeOfProperty_Numerical',\n",
       "       'LivingArea'],\n",
       "      dtype='object')"
      ]
     },
     "execution_count": 31,
     "metadata": {},
     "output_type": "execute_result"
    }
   ],
   "source": [
    "\n",
    "living_area_df = df[['BedroomCount','TypeOfProperty','SubtypeOfProperty_Numerical','LivingArea']]\n",
    "#living_area_df = df[['BedroomCount','TypeOfProperty','LivingArea']] # first only numerical\n",
    "\n",
    "living_area_df.info()\n",
    "print(type(living_area_df))\n",
    "living_area_df.columns"
   ]
  },
  {
   "cell_type": "code",
   "execution_count": 45,
   "metadata": {},
   "outputs": [
    {
     "name": "stdout",
     "output_type": "stream",
     "text": [
      "   BedroomCount  TypeOfProperty  SubtypeOfProperty_Numerical  LivingArea  \\\n",
      "0           1.0               2                            7   29.000000   \n",
      "1          13.0               1                            6  391.000000   \n",
      "2           4.0               1                            2  111.000000   \n",
      "3           4.0               1                            2  231.087976   \n",
      "4           2.0               2                            1   92.000000   \n",
      "\n",
      "      Price  \n",
      "0   99000.0  \n",
      "1  765000.0  \n",
      "2  399000.0  \n",
      "3  230000.0  \n",
      "4  198000.0  \n"
     ]
    }
   ],
   "source": [
    "import numpy as np\n",
    "from sklearn.experimental import enable_iterative_imputer\n",
    "from sklearn.impute import IterativeImputer\n",
    "\n",
    "living_area_imputer = IterativeImputer(random_state=0)\n",
    "living_area_df_imputed = living_area_imputer.fit_transform(living_area_df)\n",
    "\n",
    "#print(type(living_area_df_imputed))\n",
    "living_area_df_imputed = pd.DataFrame(living_area_df_imputed)\n",
    "df['LivingArea'] = living_area_df_imputed[3]\n",
    "\n",
    "print(df[['BedroomCount','TypeOfProperty','SubtypeOfProperty_Numerical','LivingArea','Price']].head())"
   ]
  },
  {
   "cell_type": "code",
   "execution_count": 47,
   "metadata": {},
   "outputs": [
    {
     "data": {
      "text/plain": [
       "Kitchen\n",
       "INSTALLED             32623\n",
       "HYPER_EQUIPPED        19773\n",
       "SEMI_EQUIPPED          7810\n",
       "NOT_INSTALLED          3897\n",
       "USA_HYPER_EQUIPPED     1438\n",
       "USA_INSTALLED          1288\n",
       "USA_SEMI_EQUIPPED       201\n",
       "USA_UNINSTALLED         104\n",
       "Name: count, dtype: int64"
      ]
     },
     "execution_count": 47,
     "metadata": {},
     "output_type": "execute_result"
    }
   ],
   "source": [
    "df[\"Kitchen\"].value_counts()"
   ]
  },
  {
   "cell_type": "code",
   "execution_count": 48,
   "metadata": {},
   "outputs": [
    {
     "data": {
      "text/plain": [
       "StateOfBuilding\n",
       "GOOD              43442\n",
       "AS_NEW            18969\n",
       "TO_RENOVATE        7544\n",
       "TO_BE_DONE_UP      5721\n",
       "JUST_RENOVATED     5484\n",
       "TO_RESTORE          462\n",
       "Name: count, dtype: int64"
      ]
     },
     "execution_count": 48,
     "metadata": {},
     "output_type": "execute_result"
    }
   ],
   "source": [
    "df['StateOfBuilding'].value_counts()"
   ]
  }
 ],
 "metadata": {
  "kernelspec": {
   "display_name": "Python 3",
   "language": "python",
   "name": "python3"
  },
  "language_info": {
   "codemirror_mode": {
    "name": "ipython",
    "version": 3
   },
   "file_extension": ".py",
   "mimetype": "text/x-python",
   "name": "python",
   "nbconvert_exporter": "python",
   "pygments_lexer": "ipython3",
   "version": "3.12.3"
  }
 },
 "nbformat": 4,
 "nbformat_minor": 2
}
